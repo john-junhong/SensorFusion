{
 "cells": [
  {
   "cell_type": "markdown",
   "metadata": {},
   "source": [
    "# 1 Download the bitstream file"
   ]
  },
  {
   "cell_type": "code",
   "execution_count": 32,
   "metadata": {
    "collapsed": true
   },
   "outputs": [],
   "source": [
    "from pynq import Overlay\n",
    "Overlay(\"top.bit\").download()"
   ]
  },
  {
   "cell_type": "markdown",
   "metadata": {},
   "source": [
    "# 2 Download the bin file"
   ]
  },
  {
   "cell_type": "code",
   "execution_count": 33,
   "metadata": {
    "collapsed": true
   },
   "outputs": [],
   "source": [
    "from pynq.iop import Pmod_HMC5883L\n",
    "from pynq.iop import PMODA\n",
    "\n",
    "myiic = Pmod_HMC5883L(PMODA)"
   ]
  },
  {
   "cell_type": "markdown",
   "metadata": {},
   "source": [
    "# 3 Realtime to replay the data"
   ]
  },
  {
   "cell_type": "code",
   "execution_count": 34,
   "metadata": {
    "collapsed": false
   },
   "outputs": [],
   "source": [
    "from traitlets import Unicode, validate\n",
    "import ipywidgets as widgets\n",
    "class GetWidget(widgets.DOMWidget):\n",
    "    _view_name = Unicode('HelloView').tag(sync=True)\n",
    "    _view_module = Unicode('hello').tag(sync=True)\n",
    "    value = Unicode('Default Value = 0').tag(sync=True) "
   ]
  },
  {
   "cell_type": "code",
   "execution_count": 35,
   "metadata": {
    "collapsed": false
   },
   "outputs": [
    {
     "data": {
      "application/javascript": [
       "require.undef('hello');\n",
       "\n",
       "define('hello', [\"jupyter-js-widgets\"], function(widgets) {\n",
       "    var HelloView = widgets.DOMWidgetView.extend({\n",
       "        render: function() {\n",
       "            this.el.textContent = this.model.get('value');\n",
       "        },\n",
       "    });\n",
       "    return {\n",
       "        HelloView : HelloView\n",
       "    };\n",
       "});"
      ],
      "text/plain": [
       "<IPython.core.display.Javascript object>"
      ]
     },
     "metadata": {},
     "output_type": "display_data"
    }
   ],
   "source": [
    "%%javascript\n",
    "require.undef('hello');\n",
    "\n",
    "define('hello', [\"jupyter-js-widgets\"], function(widgets) {\n",
    "    var HelloView = widgets.DOMWidgetView.extend({\n",
    "        render: function() {\n",
    "            this.el.textContent = this.model.get('value');\n",
    "        },\n",
    "    });\n",
    "    return {\n",
    "        HelloView : HelloView\n",
    "    };\n",
    "});"
   ]
  },
  {
   "cell_type": "code",
   "execution_count": 36,
   "metadata": {
    "collapsed": false
   },
   "outputs": [
    {
     "data": {
      "application/javascript": [
       "require.undef('hello');\n",
       "\n",
       "define('hello', [\"jupyter-js-widgets\"], function(widgets) {\n",
       "\n",
       "    var HelloView = widgets.DOMWidgetView.extend({\n",
       "\n",
       "        render: function() {\n",
       "            this.value_changed();\n",
       "            this.model.on('change:value', this.value_changed, this);\n",
       "        },\n",
       "\n",
       "        value_changed: function() {\n",
       "            this.el.textContent = this.model.get('value');\n",
       "        },\n",
       "    });\n",
       "\n",
       "    return {\n",
       "        HelloView : HelloView\n",
       "    };\n",
       "});"
      ],
      "text/plain": [
       "<IPython.core.display.Javascript object>"
      ]
     },
     "metadata": {},
     "output_type": "display_data"
    }
   ],
   "source": [
    "%%javascript\n",
    "require.undef('hello');\n",
    "\n",
    "define('hello', [\"jupyter-js-widgets\"], function(widgets) {\n",
    "\n",
    "    var HelloView = widgets.DOMWidgetView.extend({\n",
    "\n",
    "        render: function() {\n",
    "            this.value_changed();\n",
    "            this.model.on('change:value', this.value_changed, this);\n",
    "        },\n",
    "\n",
    "        value_changed: function() {\n",
    "            this.el.textContent = this.model.get('value');\n",
    "        },\n",
    "    });\n",
    "\n",
    "    return {\n",
    "        HelloView : HelloView\n",
    "    };\n",
    "});"
   ]
  },
  {
   "cell_type": "code",
   "execution_count": 37,
   "metadata": {
    "collapsed": true
   },
   "outputs": [],
   "source": [
    "w = GetWidget()\n",
    "w"
   ]
  },
  {
   "cell_type": "code",
   "execution_count": 38,
   "metadata": {
    "collapsed": true
   },
   "outputs": [],
   "source": [
    "from ipywidgets import *\n",
    "\n",
    "def g(SsDatas):\n",
    "    return (SsDatas)\n"
   ]
  },
  {
   "cell_type": "code",
   "execution_count": 51,
   "metadata": {
    "collapsed": false
   },
   "outputs": [
    {
     "data": {
      "image/png": "[encoded data removed]",
      "text/plain": [
       "<matplotlib.figure.Figure at 0x3034e130>"
      ]
     },
     "metadata": {},
     "output_type": "display_data"
    },
    {
     "ename": "KeyboardInterrupt",
     "evalue": "",
     "output_type": "error",
     "traceback": [
      "\u001b[0;31m---------------------------------------------------------------------------\u001b[0m",
      "\u001b[0;31mKeyboardInterrupt\u001b[0m                         Traceback (most recent call last)",
      "\u001b[0;32m<ipython-input-51-e1e126b8b443>\u001b[0m in \u001b[0;36m<module>\u001b[0;34m()\u001b[0m\n\u001b[1;32m      5\u001b[0m \u001b[0mFlag\u001b[0m \u001b[0;34m=\u001b[0m \u001b[0;36m1\u001b[0m\u001b[0;34m\u001b[0m\u001b[0m\n\u001b[1;32m      6\u001b[0m \u001b[0;32mwhile\u001b[0m \u001b[0mFlag\u001b[0m \u001b[0;34m==\u001b[0m \u001b[0;36m1\u001b[0m\u001b[0;34m:\u001b[0m\u001b[0;34m\u001b[0m\u001b[0m\n\u001b[0;32m----> 7\u001b[0;31m     \u001b[0mOutAngle\u001b[0m \u001b[0;34m=\u001b[0m \u001b[0mmyiic\u001b[0m\u001b[0;34m.\u001b[0m\u001b[0mread\u001b[0m\u001b[0;34m(\u001b[0m\u001b[0;34m)\u001b[0m\u001b[0;34m\u001b[0m\u001b[0m\n\u001b[0m\u001b[1;32m      8\u001b[0m     \u001b[0mw\u001b[0m\u001b[0;34m.\u001b[0m\u001b[0mvalue\u001b[0m \u001b[0;34m=\u001b[0m \u001b[0;34m\"Sensor data:\"\u001b[0m \u001b[0;34m+\u001b[0m \u001b[0mstr\u001b[0m\u001b[0;34m(\u001b[0m \u001b[0mOutAngle\u001b[0m\u001b[0;34m)\u001b[0m\u001b[0;34m;\u001b[0m\u001b[0;34m\u001b[0m\u001b[0m\n\u001b[1;32m      9\u001b[0m \u001b[0;31m#     interact(g, SsDatas =  OutAngle);\u001b[0m\u001b[0;34m\u001b[0m\u001b[0;34m\u001b[0m\u001b[0m\n",
      "\u001b[0;32m/usr/local/lib/python3.4/dist-packages/pynq/iop/pmod_HMC5883L.py\u001b[0m in \u001b[0;36mread\u001b[0;34m(self)\u001b[0m\n\u001b[1;32m     96\u001b[0m \u001b[0;34m\u001b[0m\u001b[0m\n\u001b[1;32m     97\u001b[0m         while (self.mmio.read(iop_const.MAILBOX_OFFSET + \\\n\u001b[0;32m---> 98\u001b[0;31m                                       iop_const.MAILBOX_PY2IOP_CMD_OFFSET) == 3):\n\u001b[0m\u001b[1;32m     99\u001b[0m             \u001b[0;32mpass\u001b[0m\u001b[0;34m\u001b[0m\u001b[0m\n\u001b[1;32m    100\u001b[0m \u001b[0;34m\u001b[0m\u001b[0m\n",
      "\u001b[0;32m/usr/local/lib/python3.4/dist-packages/pynq/mmio.py\u001b[0m in \u001b[0;36mread\u001b[0;34m(self, offset, length)\u001b[0m\n\u001b[1;32m    136\u001b[0m \u001b[0;34m\u001b[0m\u001b[0m\n\u001b[1;32m    137\u001b[0m         \u001b[0;31m# Seek the virtual address offset\u001b[0m\u001b[0;34m\u001b[0m\u001b[0;34m\u001b[0m\u001b[0m\n\u001b[0;32m--> 138\u001b[0;31m         \u001b[0mmem\u001b[0m\u001b[0;34m.\u001b[0m\u001b[0mseek\u001b[0m\u001b[0;34m(\u001b[0m\u001b[0;34m(\u001b[0m\u001b[0mself\u001b[0m\u001b[0;34m.\u001b[0m\u001b[0mvirt_offset\u001b[0m \u001b[0;34m+\u001b[0m \u001b[0moffset\u001b[0m\u001b[0;34m)\u001b[0m \u001b[0;34m&\u001b[0m \u001b[0mgeneral_const\u001b[0m\u001b[0;34m.\u001b[0m\u001b[0mMMIO_WORD_MASK\u001b[0m\u001b[0;34m)\u001b[0m\u001b[0;34m\u001b[0m\u001b[0m\n\u001b[0m\u001b[1;32m    139\u001b[0m \u001b[0;34m\u001b[0m\u001b[0m\n\u001b[1;32m    140\u001b[0m         \u001b[0;31m# Read data out\u001b[0m\u001b[0;34m\u001b[0m\u001b[0;34m\u001b[0m\u001b[0m\n",
      "\u001b[0;31mKeyboardInterrupt\u001b[0m: "
     ]
    }
   ],
   "source": [
    "from pylab import *\n",
    "figure(1)\n",
    "plot()\n",
    "show()\n",
    "Flag = 1\n",
    "while Flag == 1:\n",
    "    OutAngle = myiic.read()\n",
    "    w.value = \"Sensor data:\" + str( OutAngle);\n",
    "#     interact(g, SsDatas =  OutAngle);"
   ]
  },
  {
   "cell_type": "code",
   "execution_count": 55,
   "metadata": {
    "collapsed": false
   },
   "outputs": [
    {
     "data": {
      "image/png": "[encoded data removed]",
      "text/plain": [
       "<matplotlib.figure.Figure at 0x2ff42b70>"
      ]
     },
     "metadata": {},
     "output_type": "display_data"
    },
    {
     "data": {
      "image/png": "[encoded data removed]",
      "text/plain": [
       "<matplotlib.figure.Figure at 0x2f95c270>"
      ]
     },
     "metadata": {},
     "output_type": "display_data"
    }
   ],
   "source": [
    "from pylab import *\n",
    "figure(1)\n",
    "plot()\n",
    "show()\n",
    "figure(1)\n",
    "plot(range(10))\n",
    "figure(1)\n",
    "scatter(range(10),range(10))\n",
    "show()\n"
   ]
  }
 ],
 "metadata": {
  "kernelspec": {
   "display_name": "Python 3",
   "language": "python",
   "name": "python3"
  },
  "language_info": {
   "codemirror_mode": {
    "name": "ipython",
    "version": 3
   },
   "file_extension": ".py",
   "mimetype": "text/x-python",
   "name": "python",
   "nbconvert_exporter": "python",
   "pygments_lexer": "ipython3",
   "version": "3.4.3+"
  },
  "widgets": {
   "state": {
    "0c3fcf37ebea40db9db12edb8eff9b4f": {
     "views": [
      {
       "cell_index": 10
      }
     ]
    },
    "14dc4b78befc4be49ba153539534ab21": {
     "views": [
      {
       "cell_index": 10
      }
     ]
    },
    "15d2a25062054246a68b4d5cde273752": {
     "views": [
      {
       "cell_index": 10
      }
     ]
    },
    "17ea5af6b59a4bfb8ad19b2838165c32": {
     "views": [
      {
       "cell_index": 10
      }
     ]
    },
    "19168a9b61134cc3ab6df48095df6901": {
     "views": [
      {
       "cell_index": 10
      }
     ]
    },
    "20ea21baaba240f19d2f5e4ec80a4b0a": {
     "views": [
      {
       "cell_index": 10
      }
     ]
    },
    "3a463eaeb892478f96d4ab2a5983b832": {
     "views": [
      {
       "cell_index": 10
      }
     ]
    },
    "3a471425299b492ba9263ca6030ab123": {
     "views": [
      {
       "cell_index": 10
      }
     ]
    },
    "48c85c8a62a547509e29d34cfa46ea1d": {
     "views": [
      {
       "cell_index": 10
      }
     ]
    },
    "51333c8344d143978d5333aab1fb35da": {
     "views": [
      {
       "cell_index": 10
      }
     ]
    },
    "52acd363c5bc461f9c336be20911f99e": {
     "views": [
      {
       "cell_index": 10
      }
     ]
    },
    "56551bb05418405cbb9fc23079953003": {
     "views": [
      {
       "cell_index": 10
      }
     ]
    },
    "5a2bc90bcfa24405964518936df31b5c": {
     "views": [
      {
       "cell_index": 10
      }
     ]
    },
    "6c469e1292994c349f10f77f96bfb8cd": {
     "views": [
      {
       "cell_index": 10
      }
     ]
    },
    "8145ed4e418a4d23ac3eddedd3a10b82": {
     "views": [
      {
       "cell_index": 10
      }
     ]
    },
    "975a4b7742e446fdb9a37b348b179c1f": {
     "views": [
      {
       "cell_index": 10
      }
     ]
    },
    "9bc3e7b29ab54edc9dad4f1e70b55672": {
     "views": [
      {
       "cell_index": 10
      }
     ]
    },
    "a223bfe3f2394b21a92fb70b9ce99acc": {
     "views": [
      {
       "cell_index": 10
      }
     ]
    },
    "abfb2a642a444bccb0fe3c01ee80f718": {
     "views": [
      {
       "cell_index": 10
      }
     ]
    },
    "b82e33949e13410b80a64d09bcebe47c": {
     "views": [
      {
       "cell_index": 10
      }
     ]
    },
    "bb139385d9724e338b09e61a235f55d6": {
     "views": [
      {
       "cell_index": 10
      }
     ]
    },
    "bc5219c42fcb43a9b2de7d8ef4eecbe7": {
     "views": [
      {
       "cell_index": 10
      }
     ]
    },
    "c583ceebd3e54a42b1950313e630dfe6": {
     "views": [
      {
       "cell_index": 8
      }
     ]
    },
    "c7e0a21bb7534da79faee34946ca12f8": {
     "views": [
      {
       "cell_index": 10
      }
     ]
    },
    "d6e11849c4f6425096e31dfa6eb0dfb7": {
     "views": [
      {
       "cell_index": 10
      }
     ]
    },
    "dba37699bb704d0fa6b0ff682c0fff25": {
     "views": [
      {
       "cell_index": 10
      }
     ]
    },
    "e2b32be2f7414b45b7ec4a954c636059": {
     "views": [
      {
       "cell_index": 10
      }
     ]
    },
    "f57321d112464ab5b88884f6a9efc2ef": {
     "views": [
      {
       "cell_index": 10
      }
     ]
    },
    "ff82ced7dd094fc38dbee61efeb042a6": {
     "views": [
      {
       "cell_index": 10
      }
     ]
    }
   },
   "version": "1.2.0"
  }
 },
 "nbformat": 4,
 "nbformat_minor": 1
}
