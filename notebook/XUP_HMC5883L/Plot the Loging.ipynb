{
 "cells": [
  {
   "cell_type": "markdown",
   "metadata": {},
   "source": [
    "# 1 Download the bitstream file"
   ]
  },
  {
   "cell_type": "code",
   "execution_count": 1,
   "metadata": {
    "collapsed": true
   },
   "outputs": [],
   "source": [
    "from pynq import Overlay\n",
    "Overlay(\"top.bit\").download()"
   ]
  },
  {
   "cell_type": "markdown",
   "metadata": {},
   "source": [
    "# 2 Download the bin file"
   ]
  },
  {
   "cell_type": "code",
   "execution_count": 2,
   "metadata": {
    "collapsed": true
   },
   "outputs": [],
   "source": [
    "from pynq.iop import Pmod_HMC5883L\n",
    "from pynq.iop import PMODA\n",
    "\n",
    "myiic = Pmod_HMC5883L(PMODA)"
   ]
  },
  {
   "cell_type": "markdown",
   "metadata": {},
   "source": [
    "# 3 Plot the Loging"
   ]
  },
  {
   "cell_type": "markdown",
   "metadata": {},
   "source": [
    "## 3.1 Plot Function"
   ]
  },
  {
   "cell_type": "code",
   "execution_count": 11,
   "metadata": {
    "collapsed": true
   },
   "outputs": [],
   "source": [
    "import matplotlib.pyplot as plt \n",
    "def HMC5883L(log):\n",
    "    %matplotlib inline     \n",
    "    plt.plot(range(len(log)), log, 'ro') # 'r' 'ro'\n",
    "    plt.title('HMC5883L Sensor log')\n",
    "    plt.axis([0, len(log), min(log), max(log)])\n",
    "    plt.bar(range(len(log)), log, facecolor='#9999ff', edgecolor='white',width = 0.3)\n",
    "    plt.xlabel('Ponits')\n",
    "    plt.ylabel('Values')\n",
    "    plt.show()"
   ]
  },
  {
   "cell_type": "markdown",
   "metadata": {},
   "source": [
    "## 3.2 Loging and Ploting "
   ]
  },
  {
   "cell_type": "code",
   "execution_count": 12,
   "metadata": {
    "collapsed": false
   },
   "outputs": [
    {
     "data": {
      "image/png": "[encoded data removed]",
      "text/plain": [
       "<matplotlib.figure.Figure at 0x303d9b90>"
      ]
     },
     "metadata": {},
     "output_type": "display_data"
    }
   ],
   "source": [
    "from ipywidgets import *\n",
    "from IPython.display import display\n",
    "\n",
    "items_layout = Layout(flex='1 1 auto', width='auto')     # override the default width of the button to 'auto' to let the button grow\n",
    "items = [\n",
    "    Button(description='Start Log', layout=Layout(flex='2 1 auto', width='50%')),\n",
    "    Button(description='Stop Log', layout=Layout(flex='2 1 auto', width='50%')),  \n",
    "    Button(description='Plot Log', layout=Layout(flex='2 1 auto', width='50%')), \n",
    " ]\n",
    "box_layout = Layout(display='flex',\n",
    "                    flex_flow='row',\n",
    "                    align_items='stretch',\n",
    "                    border='solid',\n",
    "                    width='60%')\n",
    "def on_button_clicked(b):\n",
    "    myiic.start_log()\n",
    "items[0].on_click(on_button_clicked)\n",
    "\n",
    "def on_button_clicked(b):\n",
    "    myiic.stop_log()    \n",
    "items[1].on_click(on_button_clicked)\n",
    "def on_button_clicked(b):\n",
    "    log = myiic.get_log()\n",
    "    HMC5883L(log)  \n",
    "items[2].on_click(on_button_clicked)\n",
    "box = Box(children=items, layout=box_layout)\n",
    "box"
   ]
  }
 ],
 "metadata": {
  "kernelspec": {
   "display_name": "Python 3",
   "language": "python",
   "name": "python3"
  },
  "language_info": {
   "codemirror_mode": {
    "name": "ipython",
    "version": 3
   },
   "file_extension": ".py",
   "mimetype": "text/x-python",
   "name": "python",
   "nbconvert_exporter": "python",
   "pygments_lexer": "ipython3",
   "version": "3.4.3+"
  },
  "widgets": {
   "state": {
    "0c221ba7acd84ea791c65bd5bf84fb69": {
     "views": [
      {
       "cell_index": 8
      }
     ]
    }
   },
   "version": "1.2.0"
  }
 },
 "nbformat": 4,
 "nbformat_minor": 1
}
