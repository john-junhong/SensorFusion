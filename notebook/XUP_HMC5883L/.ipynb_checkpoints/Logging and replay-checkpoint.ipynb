{
 "cells": [
  {
   "cell_type": "markdown",
   "metadata": {},
   "source": [
    "# 1 Download the bitstream file"
   ]
  },
  {
   "cell_type": "code",
   "execution_count": 2,
   "metadata": {
    "collapsed": true
   },
   "outputs": [],
   "source": [
    "from pynq import Overlay\n",
    "Overlay(\"top.bit\").download()"
   ]
  },
  {
   "cell_type": "markdown",
   "metadata": {},
   "source": [
    "# 2 Download the bin file"
   ]
  },
  {
   "cell_type": "code",
   "execution_count": 3,
   "metadata": {
    "collapsed": true
   },
   "outputs": [],
   "source": [
    "from pynq.iop import Pmod_HMC5883L\n",
    "from pynq.iop import PMODA\n",
    "\n",
    "myiic = Pmod_HMC5883L(PMODA)"
   ]
  },
  {
   "cell_type": "markdown",
   "metadata": {},
   "source": [
    "# 3 Read the data"
   ]
  },
  {
   "cell_type": "markdown",
   "metadata": {},
   "source": [
    "## 3.1 Just print the data"
   ]
  },
  {
   "cell_type": "code",
   "execution_count": 4,
   "metadata": {
    "collapsed": false
   },
   "outputs": [
    {
     "name": "stdout",
     "output_type": "stream",
     "text": [
      "172.4\n"
     ]
    }
   ],
   "source": [
    "OUT_angle = myiic.read()\n",
    "print(str(OUT_angle))"
   ]
  },
  {
   "cell_type": "markdown",
   "metadata": {},
   "source": [
    "## 3.2 Loging and replay"
   ]
  },
  {
   "cell_type": "code",
   "execution_count": 8,
   "metadata": {
    "collapsed": true
   },
   "outputs": [],
   "source": [
    "def g(SsDatas):\n",
    "    return (SsDatas)"
   ]
  },
  {
   "cell_type": "code",
   "execution_count": 9,
   "metadata": {
    "collapsed": false
   },
   "outputs": [
    {
     "data": {
      "text/plain": [
       "'177.2'"
      ]
     },
     "metadata": {},
     "output_type": "display_data"
    }
   ],
   "source": [
    "from ipywidgets import *\n",
    "from IPython.display import display\n",
    "\n",
    "button = widgets.Button(description=\"Start log\")\n",
    "display(button)\n",
    "def on_button_clicked(b):\n",
    "    myiic.start_log()\n",
    "button.on_click(on_button_clicked)\n",
    "\n",
    "button = widgets.Button(description=\"Stop log\")\n",
    "display(button)\n",
    "def on_button_clicked(b):\n",
    "    myiic.stop_log()\n",
    "    log = myiic.get_log()    \n",
    "    interact(g, SsDatas = log);\n",
    "button.on_click(on_button_clicked)"
   ]
  }
 ],
 "metadata": {
  "kernelspec": {
   "display_name": "Python 3",
   "language": "python",
   "name": "python3"
  },
  "language_info": {
   "codemirror_mode": {
    "name": "ipython",
    "version": 3
   },
   "file_extension": ".py",
   "mimetype": "text/x-python",
   "name": "python",
   "nbconvert_exporter": "python",
   "pygments_lexer": "ipython3",
   "version": "3.4.3+"
  },
  "widgets": {
   "state": {
    "2b6dc793eaf04e438bb228dfb9269149": {
     "views": [
      {
       "cell_index": 9
      }
     ]
    },
    "c1bc26419cc04fc69501f4ef15bc5659": {
     "views": [
      {
       "cell_index": 9
      }
     ]
    },
    "c8d4c04d4bf140229073fb9a7f513635": {
     "views": [
      {
       "cell_index": 9
      }
     ]
    },
    "e92cce401ce34d93b9243b369b1a77a1": {
     "views": [
      {
       "cell_index": 8
      }
     ]
    }
   },
   "version": "1.2.0"
  }
 },
 "nbformat": 4,
 "nbformat_minor": 1
}
